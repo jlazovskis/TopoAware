{
 "cells": [
  {
   "cell_type": "code",
   "execution_count": 2,
   "id": "c9f33b2c-603c-44d7-804d-5600a31ec2cf",
   "metadata": {},
   "outputs": [],
   "source": [
    "# Load packages and functions\n",
    "exec(open('topoaware.py').read())"
   ]
  },
  {
   "cell_type": "code",
   "execution_count": 14,
   "id": "0af79a11-46d8-43f8-91ab-b6b25c9ed5b9",
   "metadata": {},
   "outputs": [],
   "source": [
    "# Load test data\n",
    "df = pd.read_csv('../examples/test_shape.csv')\n",
    "x = df['x'].values\n",
    "y = df['y'].values"
   ]
  },
  {
   "cell_type": "code",
   "execution_count": 20,
   "id": "f56fbd37-0744-4096-a794-c23d0e762df4",
   "metadata": {},
   "outputs": [],
   "source": [
    "# Construct Vietoris--Rips complex on shape\n",
    "diameter = np.max([np.max(x)-np.min(x),np.max(y)-np.min(y)])\n",
    "radius = .3*diameter\n",
    "complex_vr_container = gd.RipsComplex(points=df.values, max_edge_length=radius)\n",
    "complex_vr = complex_vr_container.create_simplex_tree(max_dimension=2)"
   ]
  },
  {
   "cell_type": "code",
   "execution_count": 24,
   "id": "4a7db42d-0894-413d-a974-6110e440afc7",
   "metadata": {},
   "outputs": [
    {
     "data": {
      "text/plain": [
       "gudhi.point_cloud.knn.KNearestNeighbors"
      ]
     },
     "execution_count": 24,
     "metadata": {},
     "output_type": "execute_result"
    }
   ],
   "source": [
    "from gudhi.point_cloud import knn\n",
    "knn.KNearestNeighbors"
   ]
  },
  {
   "cell_type": "code",
   "execution_count": null,
   "id": "bcdd6360-c373-4e88-b8ba-772a5fbc2a76",
   "metadata": {},
   "outputs": [],
   "source": []
  }
 ],
 "metadata": {
  "kernelspec": {
   "display_name": "Python 3 (ipykernel)",
   "language": "python",
   "name": "python3"
  },
  "language_info": {
   "codemirror_mode": {
    "name": "ipython",
    "version": 3
   },
   "file_extension": ".py",
   "mimetype": "text/x-python",
   "name": "python",
   "nbconvert_exporter": "python",
   "pygments_lexer": "ipython3",
   "version": "3.13.3"
  }
 },
 "nbformat": 4,
 "nbformat_minor": 5
}
